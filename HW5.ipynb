{
 "cells": [
  {
   "cell_type": "code",
   "execution_count": 1,
   "id": "6617e407",
   "metadata": {},
   "outputs": [],
   "source": [
    "import pyspark\n",
    "from pyspark.sql import SparkSession\n",
    "from pyspark.sql import types\n",
    "from pyspark.sql import functions as F\n",
    "from pyspark.sql.functions import to_date\n",
    "from pyspark.sql.functions import datediff\n"
   ]
  },
  {
   "cell_type": "code",
   "execution_count": 2,
   "id": "05c718d8-8de0-4045-8961-f35460d5d46f",
   "metadata": {},
   "outputs": [],
   "source": [
    "spark = SparkSession.builder \\\n",
    "    .master(\"local[*]\") \\\n",
    "    .appName('hw5') \\\n",
    "    .getOrCreate()\n"
   ]
  },
  {
   "cell_type": "code",
   "execution_count": 3,
   "id": "a22943a0-b549-4ac5-986d-591669002756",
   "metadata": {},
   "outputs": [
    {
     "data": {
      "text/plain": [
       "'3.3.2'"
      ]
     },
     "execution_count": 3,
     "metadata": {},
     "output_type": "execute_result"
    }
   ],
   "source": [
    "## Q1\n",
    "\n",
    "spark.version"
   ]
  },
  {
   "cell_type": "code",
   "execution_count": 4,
   "id": "766bfea2-a1a5-4e81-967e-94b47199a05e",
   "metadata": {},
   "outputs": [],
   "source": [
    "my_schema = types.StructType([\n",
    " types.StructField('dispatching_base_num', types.StringType(), True),\n",
    " types.StructField('pickup_datetime', types.TimestampType(), True),\n",
    " types.StructField('dropOff_datetime', types.TimestampType(), True),\n",
    " types.StructField('PUlocationID', types.IntegerType(), True),\n",
    " types.StructField('DOlocationID', types.IntegerType(), True),\n",
    " types.StructField('SR_Flag', types.StringType(), True),\n",
    " types.StructField('Affiliated_base_number', types.StringType(), True)\n",
    " ])"
   ]
  },
  {
   "cell_type": "code",
   "execution_count": 5,
   "id": "babb5ddf-bcd7-48b5-b5fa-b5c3decba1a2",
   "metadata": {},
   "outputs": [],
   "source": [
    "## Q2 Read in data to a dataframe\n",
    "\n",
    "df = spark.read \\\n",
    "    .option(\"header\", \"true\") \\\n",
    "    .schema(my_schema) \\\n",
    "    .csv(r'C:\\Users\\matth\\Zoom Camp 2024\\Module (5) Batch Processing\\HW-5\\Data\\fhv_tripdata_2019-10.csv')"
   ]
  },
  {
   "cell_type": "code",
   "execution_count": 6,
   "id": "803efc39",
   "metadata": {},
   "outputs": [
    {
     "name": "stdout",
     "output_type": "stream",
     "text": [
      "+--------------------+-------------------+-------------------+------------+------------+-------+----------------------+\n",
      "|dispatching_base_num|    pickup_datetime|   dropOff_datetime|PUlocationID|DOlocationID|SR_Flag|Affiliated_base_number|\n",
      "+--------------------+-------------------+-------------------+------------+------------+-------+----------------------+\n",
      "|              B00009|2019-10-01 00:23:00|2019-10-01 00:35:00|         264|         264|   null|                B00009|\n",
      "|              B00013|2019-10-01 00:11:29|2019-10-01 00:13:22|         264|         264|   null|                B00013|\n",
      "|              B00014|2019-10-01 00:11:43|2019-10-01 00:37:20|         264|         264|   null|                B00014|\n",
      "|              B00014|2019-10-01 00:56:29|2019-10-01 00:57:47|         264|         264|   null|                B00014|\n",
      "|              B00014|2019-10-01 00:23:09|2019-10-01 00:28:27|         264|         264|   null|                B00014|\n",
      "+--------------------+-------------------+-------------------+------------+------------+-------+----------------------+\n",
      "only showing top 5 rows\n",
      "\n"
     ]
    }
   ],
   "source": [
    "df.show(5)"
   ]
  },
  {
   "cell_type": "code",
   "execution_count": 7,
   "id": "937bb144-dffb-47be-84c3-0fdbe77b7920",
   "metadata": {},
   "outputs": [
    {
     "name": "stdout",
     "output_type": "stream",
     "text": [
      "root\n",
      " |-- dispatching_base_num: string (nullable = true)\n",
      " |-- pickup_datetime: timestamp (nullable = true)\n",
      " |-- dropOff_datetime: timestamp (nullable = true)\n",
      " |-- PUlocationID: integer (nullable = true)\n",
      " |-- DOlocationID: integer (nullable = true)\n",
      " |-- SR_Flag: string (nullable = true)\n",
      " |-- Affiliated_base_number: string (nullable = true)\n",
      "\n"
     ]
    }
   ],
   "source": [
    "df.printSchema()"
   ]
  },
  {
   "cell_type": "code",
   "execution_count": 8,
   "id": "5d770a17-3425-47b9-97c2-5583f16d168f",
   "metadata": {},
   "outputs": [],
   "source": [
    "## Writing dataframe to Parquet\n",
    "\n",
    "df.repartition(6).write.mode(\"overwrite\").parquet(r'C:\\Users\\matth\\Zoom Camp 2024\\Module (5) Batch Processing\\HW-5\\Output_Data')"
   ]
  },
  {
   "cell_type": "code",
   "execution_count": 9,
   "id": "f971f3a5-78ad-4a75-a3db-b2cd46153261",
   "metadata": {},
   "outputs": [
    {
     "name": "stdout",
     "output_type": "stream",
     "text": [
      "Maximum time difference (in hours): 631152.5\n"
     ]
    }
   ],
   "source": [
    "## Q4\n",
    "\n",
    "df_lengths = df.withColumn(\"time_difference\",datediff(df.pickup_datetime, df.dropOff_datetime))\n",
    "\n",
    "df_with_time_difference = df.withColumn(\"time_difference_hours\",(F.col(\"dropOff_datetime\") - F.col(\"pickup_datetime\")).cast(\"long\")/3600)\n",
    "\n",
    "# Find the maximum value of the new column\n",
    "max_time_difference_hours = df_with_time_difference.agg(F.max(\"time_difference_hours\")).collect()[0][0]\n",
    "\n",
    "print(\"Maximum time difference (in hours):\", max_time_difference_hours)\n"
   ]
  },
  {
   "cell_type": "code",
   "execution_count": 10,
   "id": "cd228047-5531-4162-ae18-2aa556d57a79",
   "metadata": {},
   "outputs": [
    {
     "name": "stdout",
     "output_type": "stream",
     "text": [
      "+----------+-------------+--------------------+------------+\n",
      "|LocationID|      Borough|                Zone|service_zone|\n",
      "+----------+-------------+--------------------+------------+\n",
      "|         1|          EWR|      Newark Airport|         EWR|\n",
      "|         2|       Queens|         Jamaica Bay|   Boro Zone|\n",
      "|         3|        Bronx|Allerton/Pelham G...|   Boro Zone|\n",
      "|         4|    Manhattan|       Alphabet City| Yellow Zone|\n",
      "|         5|Staten Island|       Arden Heights|   Boro Zone|\n",
      "|         6|Staten Island|Arrochar/Fort Wad...|   Boro Zone|\n",
      "|         7|       Queens|             Astoria|   Boro Zone|\n",
      "|         8|       Queens|        Astoria Park|   Boro Zone|\n",
      "|         9|       Queens|          Auburndale|   Boro Zone|\n",
      "|        10|       Queens|        Baisley Park|   Boro Zone|\n",
      "+----------+-------------+--------------------+------------+\n",
      "only showing top 10 rows\n",
      "\n"
     ]
    }
   ],
   "source": [
    "## Q6\n",
    "\n",
    "df_zones = spark.read \\\n",
    "    .option(\"header\", \"true\") \\\n",
    "    .option(\"inferSchema\", True) \\\n",
    "    .csv(r'C:\\Users\\matth\\Zoom Camp 2024\\Module (5) Batch Processing\\HW-5\\Data\\taxi_zone_lookup.csv')\n",
    "\n",
    "\n",
    "#df_zones.printSchema()\n",
    "\n",
    "df_zones.show(10)"
   ]
  },
  {
   "cell_type": "code",
   "execution_count": 11,
   "id": "30df4627-b471-4ab2-9aa9-9b4e84090f9e",
   "metadata": {},
   "outputs": [],
   "source": [
    "df_zones.createOrReplaceTempView(\"zones_data\")\n",
    "df.createOrReplaceTempView(\"fhv_data\") "
   ]
  },
  {
   "cell_type": "code",
   "execution_count": 12,
   "id": "9019ff97-8e3a-407e-9944-1240fd2b60ff",
   "metadata": {},
   "outputs": [
    {
     "name": "stdout",
     "output_type": "stream",
     "text": [
      "+-----------+--------------+\n",
      "|       Zone|PickupLocCount|\n",
      "+-----------+--------------+\n",
      "|Jamaica Bay|             1|\n",
      "+-----------+--------------+\n",
      "\n"
     ]
    }
   ],
   "source": [
    "sql_query = \"\"\"SELECT z.Zone, COUNT(f.PULocationID) AS PickupLocCount \n",
    "FROM FHV_data f \n",
    "JOIN zones_data z \n",
    "ON f.PUlocationID = z.LocationID \n",
    "GROUP BY z.Borough, z.Zone \n",
    "ORDER BY PickupLocCount \n",
    "LIMIT 1;\"\"\"\n",
    "\n",
    "result = spark.sql(sql_query)\n",
    "result.show()"
   ]
  },
  {
   "cell_type": "code",
   "execution_count": null,
   "id": "5e4ace88-29e7-49b5-a016-9dd2054026d6",
   "metadata": {},
   "outputs": [],
   "source": []
  },
  {
   "cell_type": "code",
   "execution_count": null,
   "id": "33cdcce3-4ee6-49ba-bb3d-e12b150a30cc",
   "metadata": {},
   "outputs": [],
   "source": []
  }
 ],
 "metadata": {
  "kernelspec": {
   "display_name": "Python 3 (ipykernel)",
   "language": "python",
   "name": "python3"
  },
  "language_info": {
   "codemirror_mode": {
    "name": "ipython",
    "version": 3
   },
   "file_extension": ".py",
   "mimetype": "text/x-python",
   "name": "python",
   "nbconvert_exporter": "python",
   "pygments_lexer": "ipython3",
   "version": "3.11.4"
  }
 },
 "nbformat": 4,
 "nbformat_minor": 5
}
